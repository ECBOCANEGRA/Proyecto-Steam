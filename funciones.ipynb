{
 "cells": [
  {
   "cell_type": "code",
   "execution_count": 3,
   "metadata": {},
   "outputs": [],
   "source": [
    "import pandas as pd"
   ]
  },
  {
   "cell_type": "code",
   "execution_count": 4,
   "metadata": {},
   "outputs": [],
   "source": [
    "# cargamos los archivos\n",
    "df_funcion1 = pd.read_parquet('datasets/df_funcion1.parquet', engine='fastparquet', index=False)\n",
    "df_funcion2 = pd.read_parquet('datasets/df_funcion2.parquet', engine='fastparquet', index=False)"
   ]
  },
  {
   "cell_type": "code",
   "execution_count": 5,
   "metadata": {},
   "outputs": [],
   "source": [
    "# defnimos la funcion uno\n",
    "def PlayTimeGenre(genero : str ):\n",
    "    df_funcion1['genres'] = df_funcion1['genres'].astype(str)\n",
    "    datos = df_funcion1[df_funcion1['genres'].str.contains(genero, case=False)].head(1)\n",
    "    return \"Año de lanzamiento con mas horas jugadas para {} : {}\".format(genero,datos.iloc[0,1])"
   ]
  },
  {
   "cell_type": "code",
   "execution_count": 6,
   "metadata": {},
   "outputs": [
    {
     "data": {
      "text/plain": [
       "'Año de lanzamiento con mas horas jugadas para Strategy : 2003'"
      ]
     },
     "execution_count": 6,
     "metadata": {},
     "output_type": "execute_result"
    }
   ],
   "source": [
    "PlayTimeGenre('Strategy')"
   ]
  },
  {
   "cell_type": "code",
   "execution_count": 7,
   "metadata": {},
   "outputs": [],
   "source": [
    "# definimos la funcion 2, decidi dejar la url del usuario por\n",
    "def UserForGenre(genero : str ):\n",
    "    df_funcion2['genres'] = df_funcion2['genres'].astype(str)\n",
    "    datos = df_funcion2[df_funcion2['genres'].str.contains(genero, case=False)].head(1)\n",
    "    return \"Usuario con más horas jugadas para {} : {}, Horas jugadas : {}\".format(genero,datos.iloc[0,2],datos.iloc[0,3])\n"
   ]
  },
  {
   "cell_type": "code",
   "execution_count": 8,
   "metadata": {},
   "outputs": [
    {
     "data": {
      "text/plain": [
       "'Usuario con más horas jugadas para simulation : http://steamcommunity.com/app/4000/reviews/?browsefilter=mostrecent&p=1, Horas jugadas : 10712.883333333333'"
      ]
     },
     "execution_count": 8,
     "metadata": {},
     "output_type": "execute_result"
    }
   ],
   "source": [
    "UserForGenre('simulation')"
   ]
  }
 ],
 "metadata": {
  "kernelspec": {
   "display_name": "Python 3",
   "language": "python",
   "name": "python3"
  },
  "language_info": {
   "codemirror_mode": {
    "name": "ipython",
    "version": 3
   },
   "file_extension": ".py",
   "mimetype": "text/x-python",
   "name": "python",
   "nbconvert_exporter": "python",
   "pygments_lexer": "ipython3",
   "version": "3.11.2"
  },
  "orig_nbformat": 4,
  "vscode": {
   "interpreter": {
    "hash": "aee8b7b246df8f9039afb4144a1f6fd8d2ca17a180786b69acc140d282b71a49"
   }
  }
 },
 "nbformat": 4,
 "nbformat_minor": 2
}
